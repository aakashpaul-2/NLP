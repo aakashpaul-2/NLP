{
  "nbformat": 4,
  "nbformat_minor": 0,
  "metadata": {
    "colab": {
      "name": "Web_Scraping_and_NLP.ipynb",
      "provenance": [],
      "collapsed_sections": [],
      "include_colab_link": true
    },
    "kernelspec": {
      "name": "python3",
      "display_name": "Python 3"
    }
  },
  "cells": [
    {
      "cell_type": "markdown",
      "metadata": {
        "id": "view-in-github",
        "colab_type": "text"
      },
      "source": [
        "<a href=\"https://colab.research.google.com/github/aakashpaul-2/NLP/blob/main/Web_Scraping_and_NLP.ipynb\" target=\"_parent\"><img src=\"https://colab.research.google.com/assets/colab-badge.svg\" alt=\"Open In Colab\"/></a>"
      ]
    },
    {
      "cell_type": "code",
      "metadata": {
        "id": "n8_8xLvOK4AS"
      },
      "source": [
        "# This provides a framework for functions that will be tested as part of module 5 NLP\n",
        "# You should test your submissions against the cases listed below, they will then be \n",
        "# tested against further unseen cases before being reviewed manually."
      ],
      "execution_count": null,
      "outputs": []
    },
    {
      "cell_type": "markdown",
      "metadata": {
        "id": "luyWe9n6K_u5"
      },
      "source": [
        "**THE ASSIGNMENT**\n",
        "\n",
        "Populate the notebook below to create functions that achieve the following tasks.\n",
        "They must also pass the tests included at the bottom of the notebook. \n",
        "**Part 1**: produce a scraper function that can return the following information when given a URL from the BBC news page.  This function must be iterable - it can be used in a loop to examine a number of URLs and return the following information as a JSON.\n",
        "\n",
        "a) URL (provided.  For example https://www.bbc.co.uk/news/uk-51004218)\n",
        "\n",
        "b) Title\n",
        "\n",
        "c) Date\n",
        "\n",
        "d) Content (the main body of article)\n",
        "\n",
        "**Part 2**:  Write a function that when given a block of text (as a string)  returns all the following entities in a json object,  It is suggested that you use a pre-built or custom entity recogniser rather than a rules based method.  There are entity recognisers in the following python packages: NLTK, spacy\n",
        "\n",
        "a) people\n",
        "\n",
        "b) places\n",
        "\n",
        "c) organisations \n",
        "\n",
        "**CONSTRAINTS**\n",
        "The code must run in Google Colab.\n",
        "\n",
        "Do not change the name of the functions or their inputs.\n",
        "\n",
        "Your functions will be expected to return outputs as specified in the template functions.\n",
        "\n",
        "You may add additional functions as desired.\n",
        "\n",
        "Do not change the test cases at the bottom."
      ]
    },
    {
      "cell_type": "code",
      "metadata": {
        "id": "0kV2yn3KLU68"
      },
      "source": [
        "#Do not chance these dependencies\n",
        "import pytest\n",
        "# Import your dependencies here\n",
        "import requests\n",
        "from bs4 import BeautifulSoup\n",
        "import json\n",
        "from dateutil import parser\n",
        "import spacy\n",
        "import en_core_web_sm"
      ],
      "execution_count": null,
      "outputs": []
    },
    {
      "cell_type": "code",
      "metadata": {
        "id": "auv9_6KdK8HS"
      },
      "source": [
        "def bbc_scraper(url):\n",
        "    # sends get request to specified url\n",
        "    r = requests.get(url)\n",
        "    # get html file\n",
        "    html = r.text\n",
        "    # extract information from html using beautiful soup\n",
        "    soup = BeautifulSoup(html,\"html.parser\")\n",
        "\n",
        "    #url\n",
        "    url_provided = r.url\n",
        "    #title\n",
        "    title = soup.find(id='main-heading').string\n",
        "    #date published\n",
        "    date_published_no_format = soup.time.attrs['datetime']\n",
        "    # convert to desired format\n",
        "    date_published = parser.parse(date_published_no_format).strftime('%d %B %Y')\n",
        "    # for bbc main content is in the class and data-component specified below - info pulled from this class in text form\n",
        "    content = \" \".join([p.text for p in soup.find_all('div',{'class':'ssrcss-uf6wea-RichTextComponentWrapper e1xue1i83',\"data-component\": \"text-block\"})])\n",
        "\n",
        "    # collating the results\n",
        "    results = {\"URL\" : url_provided,\n",
        "               \"Title\" : title,\n",
        "               \"Date_published\" : date_published,\n",
        "               \"Content\" : content,\n",
        "               }\n",
        "\n",
        "    # exporting results in json\n",
        "    results_json = json.dumps(results)\n",
        "\n",
        "    return results_json"
      ],
      "execution_count": null,
      "outputs": []
    },
    {
      "cell_type": "code",
      "metadata": {
        "id": "FDvLnOzZK79s"
      },
      "source": [
        "def extract_entities(string):\n",
        "\n",
        "  # assigning spacy package to variable and then input string\n",
        "  nlp = en_core_web_sm.load()\n",
        "  doc = nlp(string)\n",
        "\n",
        "  # list of string and their associated label \n",
        "  list_of_char = [(X.text, X.label_) for X in doc.ents]\n",
        "  # get unique values\n",
        "  list_of_char = list(set(list_of_char))\n",
        "  # empty list for the information needed to extract from string\n",
        "  people = []\n",
        "  organisations = []\n",
        "  places = []\n",
        "\n",
        "  for x in list_of_char:\n",
        "    \n",
        "    if 'PERSON' in x:\n",
        "      people.append(x[0])\n",
        "    if \"ORG\" in x:\n",
        "      organisations.append(x[0])\n",
        "    if \"GPE\" in x:\n",
        "      places.append(x[0])\n",
        "    if \"LOC\" in x:\n",
        "      places.append(x[0])\n",
        "\n",
        "  # storing results in a dictionary \n",
        "  results = {\"people\" : people,\n",
        "            \"places\" : places,\n",
        "            \"organisations\" : organisations,\n",
        "            }\n",
        "  #converting to json\n",
        "  entities_json = json.dumps(results)\n",
        "\n",
        "  return entities_json"
      ],
      "execution_count": null,
      "outputs": []
    },
    {
      "cell_type": "code",
      "metadata": {
        "id": "iuiH-IhIK73H"
      },
      "source": [
        "####################################################################\n",
        "# Test cases\n",
        "\n",
        "def test_bbc_scrape():\n",
        "    results = {'URL': 'https://www.bbc.co.uk/news/uk-52255054',\n",
        "                'Title': 'Coronavirus: \\'We need Easter as much as ever,\\' says the Queen',\n",
        "                'Date_published': '11 April 2020',\n",
        "                'Content': '\"Coronavirus will not overcome us,\" the Queen has said, in an Easter message to the nation. While celebrations would be different for many this year, she said: \"We need Easter as much as ever.\" Referencing the tradition of lighting candles to mark the occasion, she said: \"As dark as death can be - particularly for those suffering with grief - light and life are greater.\" It comes as the number of coronavirus deaths in UK hospitals reached 9,875. Speaking from Windsor Castle, the Queen said many religions had festivals celebrating light overcoming darkness, which often featured the lighting of candles. She said: \"They seem to speak to every culture, and appeal to people of all faiths, and of none. \"They are lit on birthday cakes and to mark family anniversaries, when we gather happily around a source of light. It unites us.\" The monarch, who is head of the Church of England, said: \"As darkness falls on the Saturday before Easter Day, many Christians would normally light candles together.  \"In church, one light would pass to another, spreading slowly and then more rapidly as more candles are lit. It\\'s a way of showing how the good news of Christ\\'s resurrection has been passed on from the first Easter by every generation until now.\" As far as we know, this is the first time the Queen has released an Easter message. And coming as it does less than a week since the televised broadcast to the nation, it underlines the gravity of the situation as it is regarded by the monarch. It serves two purposes really; it is underlining the government\\'s public safety message, acknowledging Easter will be difficult for us but by keeping apart we keep others safe, and the broader Christian message of hope and reassurance.  We know how important her Christian faith is, and coming on the eve of Easter Sunday, it is clearly a significant time for people of all faiths, but particularly Christian faith. She said the discovery of the risen Christ on the first Easter Day gave his followers new hope and fresh purpose, adding that we could all take heart from this.  Wishing everyone of all faiths and denominations a blessed Easter, she said: \"May the living flame of the Easter hope be a steady guide as we face the future.\" The Queen, 93, recorded the audio message in the White Drawing Room at Windsor Castle, with one sound engineer in the next room.  The Palace described it as \"Her Majesty\\'s contribution to those who are celebrating Easter privately\".  It follows a speech on Sunday, in which the monarch delivered a rallying message to the nation. In it, she said the UK \"will succeed\" in its fight against the coronavirus pandemic, thanked people for following government rules about staying at home and praised those \"coming together to help others\". She also thanked key workers, saying \"every hour\" of work \"brings us closer to a return to more normal times\".'}\n",
        "    \n",
        "    scraper_result = bbc_scraper('https://www.bbc.co.uk/news/uk-52255054')\n",
        "    assert json.loads(scraper_result) == results\n",
        "\n",
        "\n",
        "def test_extract_entities_amazon_org():\n",
        "    input_string = \"I work for Amazon.\"\n",
        "    results_dict = {'people':[],\n",
        "                    'places':[],\n",
        "                    'organisations': ['Amazon']\n",
        "                    }\n",
        "    extracted_entities_results = extract_entities(input_string)\n",
        "    assert json.loads(extracted_entities_results) == results_dict\n",
        "\n",
        "\n",
        "def test_extract_entities_name():\n",
        "    input_string = \"My name is Bob\"\n",
        "    results_dict = {'people':['Bob'],\n",
        "                    'places':[],\n",
        "                    'organisations': []\n",
        "                    }\n",
        "    extracted_entities_results = extract_entities(input_string)\n",
        "    assert json.loads(extracted_entities_results) == results_dict"
      ],
      "execution_count": null,
      "outputs": []
    },
    {
      "cell_type": "code",
      "metadata": {
        "id": "-EtNG-mJK7pt"
      },
      "source": [
        "test_bbc_scrape()\n",
        "test_extract_entities_amazon_org()\n",
        "test_extract_entities_name()"
      ],
      "execution_count": null,
      "outputs": []
    },
    {
      "cell_type": "code",
      "metadata": {
        "id": "0GYQ2IUJXaY2"
      },
      "source": [
        ""
      ],
      "execution_count": null,
      "outputs": []
    }
  ]
}